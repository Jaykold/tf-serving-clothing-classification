{
 "cells": [
  {
   "cell_type": "code",
   "execution_count": null,
   "id": "75afd1b0-2b95-4dec-987c-7830e0dec883",
   "metadata": {},
   "outputs": [],
   "source": [
    "%pip install tensorflow-serving-api keras-image-helper"
   ]
  },
  {
   "cell_type": "code",
   "execution_count": 2,
   "id": "34f36a6d-8727-4c5e-9dc1-c53170321d00",
   "metadata": {},
   "outputs": [
    {
     "name": "stderr",
     "output_type": "stream",
     "text": [
      "2024-12-30 00:13:37.938499: I tensorflow/tsl/cuda/cudart_stub.cc:28] Could not find cuda drivers on your machine, GPU will not be used.\n",
      "2024-12-30 00:13:38.031785: E tensorflow/compiler/xla/stream_executor/cuda/cuda_dnn.cc:9342] Unable to register cuDNN factory: Attempting to register factory for plugin cuDNN when one has already been registered\n",
      "2024-12-30 00:13:38.031833: E tensorflow/compiler/xla/stream_executor/cuda/cuda_fft.cc:609] Unable to register cuFFT factory: Attempting to register factory for plugin cuFFT when one has already been registered\n",
      "2024-12-30 00:13:38.031859: E tensorflow/compiler/xla/stream_executor/cuda/cuda_blas.cc:1518] Unable to register cuBLAS factory: Attempting to register factory for plugin cuBLAS when one has already been registered\n",
      "2024-12-30 00:13:38.048779: I tensorflow/tsl/cuda/cudart_stub.cc:28] Could not find cuda drivers on your machine, GPU will not be used.\n",
      "2024-12-30 00:13:38.050569: I tensorflow/core/platform/cpu_feature_guard.cc:182] This TensorFlow binary is optimized to use available CPU instructions in performance-critical operations.\n",
      "To enable the following instructions: AVX2 FMA, in other operations, rebuild TensorFlow with the appropriate compiler flags.\n",
      "2024-12-30 00:13:39.927148: W tensorflow/compiler/tf2tensorrt/utils/py_utils.cc:38] TF-TRT Warning: Could not find TensorRT\n"
     ]
    }
   ],
   "source": [
    "import tensorflow as tf"
   ]
  },
  {
   "cell_type": "code",
   "execution_count": 3,
   "id": "26ac6c23-fee4-4a64-9c73-3c1ed782c4c9",
   "metadata": {},
   "outputs": [],
   "source": [
    "import grpc\n",
    "\n",
    "from tensorflow_serving.apis import predict_pb2\n",
    "from tensorflow_serving.apis import prediction_service_pb2_grpc"
   ]
  },
  {
   "cell_type": "code",
   "execution_count": 4,
   "id": "2258642e-5759-4fad-b4df-1869491587eb",
   "metadata": {},
   "outputs": [],
   "source": [
    "host = 'localhost:8500'\n",
    "\n",
    "#GRPC_MAX_RECEIVE_MESSAGE_LENGTH = 4096 * 4096 * 3"
   ]
  },
  {
   "cell_type": "code",
   "execution_count": 5,
   "id": "f5cbc7a1-9767-44d5-b945-08a2e34f2798",
   "metadata": {},
   "outputs": [],
   "source": [
    "channel = grpc.insecure_channel(host)\n",
    "\n",
    "stub = prediction_service_pb2_grpc.PredictionServiceStub(channel)"
   ]
  },
  {
   "cell_type": "code",
   "execution_count": 6,
   "id": "ca39c606-1f33-4253-886f-e223c7fc222b",
   "metadata": {},
   "outputs": [],
   "source": [
    "from keras_image_helper import create_preprocessor"
   ]
  },
  {
   "cell_type": "code",
   "execution_count": 7,
   "id": "92ac7e38-8a1d-44fb-b14d-ec51821aeb03",
   "metadata": {},
   "outputs": [],
   "source": [
    "preprocessor = create_preprocessor('xception', target_size=(299,299))"
   ]
  },
  {
   "cell_type": "code",
   "execution_count": 8,
   "id": "8afce546-f65b-4770-b891-d832969d97d4",
   "metadata": {},
   "outputs": [],
   "source": [
    "url = \"https://bit.ly/al-gaib\""
   ]
  },
  {
   "cell_type": "code",
   "execution_count": 9,
   "id": "cbc6653e-dc43-4168-a35c-bb087e2f732a",
   "metadata": {
    "scrolled": true
   },
   "outputs": [],
   "source": [
    "X = preprocessor.from_url(url)"
   ]
  },
  {
   "cell_type": "code",
   "execution_count": 13,
   "id": "9574c596-3c2f-4bc1-9d69-96701a613a61",
   "metadata": {},
   "outputs": [],
   "source": [
    "grpc_request = predict_pb2.PredictRequest()\n",
    "\n",
    "grpc_request.model_spec.name = 'clothing-model'\n",
    "grpc_request.model_spec.signature_name = 'serving_default'\n",
    "\n",
    "grpc_request.inputs['input_2'].CopyFrom(tf.make_tensor_proto(X, shape=X.shape))"
   ]
  },
  {
   "cell_type": "code",
   "execution_count": 14,
   "id": "2ede8c08-48b4-41a5-840d-0710d1512907",
   "metadata": {},
   "outputs": [],
   "source": [
    "grpc_response = stub.Predict(grpc_request, timeout=20.0)\n",
    "preds = grpc_response.outputs['dense_1'].float_val"
   ]
  },
  {
   "cell_type": "code",
   "execution_count": 15,
   "id": "24f589a5",
   "metadata": {},
   "outputs": [],
   "source": [
    "classes = [\n",
    "        'dress',\n",
    "        'hat',\n",
    "        'longsleeve',\n",
    "        'outwear',\n",
    "        'pants',\n",
    "        'shirt',\n",
    "        'shoes',\n",
    "        'shorts',\n",
    "        'skirt',\n",
    "        't-shirt'\n",
    "        ]"
   ]
  },
  {
   "cell_type": "code",
   "execution_count": 16,
   "id": "c98869d3",
   "metadata": {},
   "outputs": [
    {
     "data": {
      "text/plain": [
       "{'dress': -3.046570062637329,\n",
       " 'hat': -3.63806414604187,\n",
       " 'longsleeve': -2.2050061225891113,\n",
       " 'outwear': -1.6138986349105835,\n",
       " 'pants': 3.2289621829986572,\n",
       " 'shirt': -1.6451092958450317,\n",
       " 'shoes': -2.3591649532318115,\n",
       " 'shorts': 1.1146421432495117,\n",
       " 'skirt': -0.5203550457954407,\n",
       " 't-shirt': -2.2242445945739746}"
      ]
     },
     "execution_count": 16,
     "metadata": {},
     "output_type": "execute_result"
    }
   ],
   "source": [
    "dict(zip(classes, preds))"
   ]
  },
  {
   "cell_type": "markdown",
   "id": "54662506",
   "metadata": {},
   "source": [
    "* Docker command to run the tensorflow serving\n",
    "```\n",
    "docker run -it --rm  -p 8500:8500 -p 8501:8501 -v \"$(pwd)/clothing-model:/models/clothing-model/1\" -e MODEL_NAME=\"clothing-model\"  tensorflow/serving:2.14.0"
   ]
  }
 ],
 "metadata": {
  "kernelspec": {
   "display_name": "myenv",
   "language": "python",
   "name": "python3"
  },
  "language_info": {
   "codemirror_mode": {
    "name": "ipython",
    "version": 3
   },
   "file_extension": ".py",
   "mimetype": "text/x-python",
   "name": "python",
   "nbconvert_exporter": "python",
   "pygments_lexer": "ipython3",
   "version": "3.10.16"
  }
 },
 "nbformat": 4,
 "nbformat_minor": 5
}
